{
 "cells": [
  {
   "cell_type": "code",
   "id": "initial_id",
   "metadata": {
    "collapsed": true,
    "ExecuteTime": {
     "end_time": "2024-07-17T11:25:35.672619Z",
     "start_time": "2024-07-17T11:25:35.667609Z"
    }
   },
   "source": [
    "import requests\n",
    "from bs4 import BeautifulSoup\n",
    "import pandas as pd\n",
    "import numpy as np\n",
    "import random\n"
   ],
   "outputs": [],
   "execution_count": 31
  },
  {
   "metadata": {
    "ExecuteTime": {
     "end_time": "2024-07-17T10:19:02.550410Z",
     "start_time": "2024-07-17T10:19:02.535741Z"
    }
   },
   "cell_type": "code",
   "source": "url = \"https://www.zaubacorp.com/company-list\"",
   "id": "eac49474d9badea5",
   "outputs": [],
   "execution_count": 2
  },
  {
   "metadata": {
    "ExecuteTime": {
     "end_time": "2024-07-17T10:19:03.666725Z",
     "start_time": "2024-07-17T10:19:03.649596Z"
    }
   },
   "cell_type": "code",
   "source": [
    "#r = requests.get(url)\n",
    "#print(r)"
   ],
   "id": "c1fc3c3c33787d96",
   "outputs": [],
   "execution_count": 3
  },
  {
   "metadata": {
    "ExecuteTime": {
     "end_time": "2024-07-17T10:36:54.984528Z",
     "start_time": "2024-07-17T10:36:54.697268Z"
    }
   },
   "cell_type": "code",
   "source": [
    "response = requests.get(url, auth=('user', 'pass'))\n",
    "response.status_code"
   ],
   "id": "d3eee2c070b5073",
   "outputs": [
    {
     "data": {
      "text/plain": [
       "403"
      ]
     },
     "execution_count": 29,
     "metadata": {},
     "output_type": "execute_result"
    }
   ],
   "execution_count": 29
  },
  {
   "metadata": {
    "ExecuteTime": {
     "end_time": "2024-07-17T11:31:23.437824Z",
     "start_time": "2024-07-17T11:31:23.175920Z"
    }
   },
   "cell_type": "code",
   "source": "r = requests.get(url, headers={'User-Agent': 'Mozilla/5.0 (Windows NT 10.0; Win64; x64) AppleWebKit/537.36 (KHTML, like Gecko) Chrome/126.0.0.0 Safari/537.36'})",
   "id": "32e5c96ed41fc789",
   "outputs": [],
   "execution_count": 46
  },
  {
   "metadata": {
    "ExecuteTime": {
     "end_time": "2024-07-17T11:31:24.206470Z",
     "start_time": "2024-07-17T11:31:24.198079Z"
    }
   },
   "cell_type": "code",
   "source": "r",
   "id": "5bde770855e6d056",
   "outputs": [
    {
     "data": {
      "text/plain": [
       "<Response [403]>"
      ]
     },
     "execution_count": 47,
     "metadata": {},
     "output_type": "execute_result"
    }
   ],
   "execution_count": 47
  },
  {
   "metadata": {
    "ExecuteTime": {
     "end_time": "2024-07-17T11:28:23.277002Z",
     "start_time": "2024-07-17T11:28:23.263835Z"
    }
   },
   "cell_type": "code",
   "source": [
    "print(r.status_code)\n",
    "print(r.request.headers)"
   ],
   "id": "3968cb87cdabc6c5",
   "outputs": [
    {
     "name": "stdout",
     "output_type": "stream",
     "text": [
      "403\n",
      "{'User-Agent': 'Mozilla/5.0 (X11; Linux i686; rv:124.0) Gecko/20100101 Firefox/124.0', 'Accept-Encoding': 'gzip, deflate', 'Accept': '*/*', 'Connection': 'keep-alive'}\n"
     ]
    }
   ],
   "execution_count": 44
  },
  {
   "metadata": {
    "ExecuteTime": {
     "end_time": "2024-07-17T10:33:53.167863Z",
     "start_time": "2024-07-17T10:33:53.161865Z"
    }
   },
   "cell_type": "code",
   "source": [
    "soup = BeautifulSoup(r.text, 'html.parser') \n",
    "print(soup.prettify())"
   ],
   "id": "e159fc75fdf9c0d9",
   "outputs": [
    {
     "name": "stdout",
     "output_type": "stream",
     "text": [
      "<!DOCTYPE html>\n",
      "<html lang=\"en-US\">\n",
      " <head>\n",
      "  <title>\n",
      "   Just a moment...\n",
      "  </title>\n",
      "  <meta content=\"text/html; charset=utf-8\" http-equiv=\"Content-Type\"/>\n",
      "  <meta content=\"IE=Edge\" http-equiv=\"X-UA-Compatible\"/>\n",
      "  <meta content=\"noindex,nofollow\" name=\"robots\"/>\n",
      "  <meta content=\"width=device-width,initial-scale=1\" name=\"viewport\"/>\n",
      "  <style>\n",
      "   *{box-sizing:border-box;margin:0;padding:0}html{line-height:1.15;-webkit-text-size-adjust:100%;color:#313131}button,html{font-family:system-ui,-apple-system,BlinkMacSystemFont,Segoe UI,Roboto,Helvetica Neue,Arial,Noto Sans,sans-serif,Apple Color Emoji,Segoe UI Emoji,Segoe UI Symbol,Noto Color Emoji}@media (prefers-color-scheme:dark){body{background-color:#222;color:#d9d9d9}body a{color:#fff}body a:hover{color:#ee730a;text-decoration:underline}body .lds-ring div{border-color:#999 transparent transparent}body .font-red{color:#b20f03}body .pow-button{background-color:#4693ff;color:#1d1d1d}body #challenge-success-text{background-image:url(data:image/svg+xml;base64,PHN2ZyB4bWxucz0iaHR0cDovL3d3dy53My5vcmcvMjAwMC9zdmciIHdpZHRoPSIzMiIgaGVpZ2h0PSIzMiIgZmlsbD0ibm9uZSIgdmlld0JveD0iMCAwIDI2IDI2Ij48cGF0aCBmaWxsPSIjZDlkOWQ5IiBkPSJNMTMgMGExMyAxMyAwIDEgMCAwIDI2IDEzIDEzIDAgMCAwIDAtMjZtMCAyNGExMSAxMSAwIDEgMSAwLTIyIDExIDExIDAgMCAxIDAgMjIiLz48cGF0aCBmaWxsPSIjZDlkOWQ5IiBkPSJtMTAuOTU1IDE2LjA1NS0zLjk1LTQuMTI1LTEuNDQ1IDEuMzg1IDUuMzcgNS42MSA5LjQ5NS05LjYtMS40Mi0xLjQwNXoiLz48L3N2Zz4=)}body #challenge-error-text{background-image:url(data:image/svg+xml;base64,PHN2ZyB4bWxucz0iaHR0cDovL3d3dy53My5vcmcvMjAwMC9zdmciIHdpZHRoPSIzMiIgaGVpZ2h0PSIzMiIgZmlsbD0ibm9uZSI+PHBhdGggZmlsbD0iI0IyMEYwMyIgZD0iTTE2IDNhMTMgMTMgMCAxIDAgMTMgMTNBMTMuMDE1IDEzLjAxNSAwIDAgMCAxNiAzbTAgMjRhMTEgMTEgMCAxIDEgMTEtMTEgMTEuMDEgMTEuMDEgMCAwIDEtMTEgMTEiLz48cGF0aCBmaWxsPSIjQjIwRjAzIiBkPSJNMTcuMDM4IDE4LjYxNUgxNC44N0wxNC41NjMgOS41aDIuNzgzem0tMS4wODQgMS40MjdxLjY2IDAgMS4wNTcuMzg4LjQwNy4zODkuNDA3Ljk5NCAwIC41OTYtLjQwNy45ODQtLjM5Ny4zOS0xLjA1Ny4zODktLjY1IDAtMS4wNTYtLjM4OS0uMzk4LS4zODktLjM5OC0uOTg0IDAtLjU5Ny4zOTgtLjk4NS40MDYtLjM5NyAxLjA1Ni0uMzk3Ii8+PC9zdmc+)}}body{display:flex;flex-direction:column;min-height:100vh}body.no-js .loading-spinner{visibility:hidden}body.no-js .challenge-running{display:none}body.dark{background-color:#222;color:#d9d9d9}body.dark a{color:#fff}body.dark a:hover{color:#ee730a;text-decoration:underline}body.dark .lds-ring div{border-color:#999 transparent transparent}body.dark .font-red{color:#b20f03}body.dark .pow-button{background-color:#4693ff;color:#1d1d1d}body.dark #challenge-success-text{background-image:url(data:image/svg+xml;base64,PHN2ZyB4bWxucz0iaHR0cDovL3d3dy53My5vcmcvMjAwMC9zdmciIHdpZHRoPSIzMiIgaGVpZ2h0PSIzMiIgZmlsbD0ibm9uZSIgdmlld0JveD0iMCAwIDI2IDI2Ij48cGF0aCBmaWxsPSIjZDlkOWQ5IiBkPSJNMTMgMGExMyAxMyAwIDEgMCAwIDI2IDEzIDEzIDAgMCAwIDAtMjZtMCAyNGExMSAxMSAwIDEgMSAwLTIyIDExIDExIDAgMCAxIDAgMjIiLz48cGF0aCBmaWxsPSIjZDlkOWQ5IiBkPSJtMTAuOTU1IDE2LjA1NS0zLjk1LTQuMTI1LTEuNDQ1IDEuMzg1IDUuMzcgNS42MSA5LjQ5NS05LjYtMS40Mi0xLjQwNXoiLz48L3N2Zz4=)}body.dark #challenge-error-text{background-image:url(data:image/svg+xml;base64,PHN2ZyB4bWxucz0iaHR0cDovL3d3dy53My5vcmcvMjAwMC9zdmciIHdpZHRoPSIzMiIgaGVpZ2h0PSIzMiIgZmlsbD0ibm9uZSI+PHBhdGggZmlsbD0iI0IyMEYwMyIgZD0iTTE2IDNhMTMgMTMgMCAxIDAgMTMgMTNBMTMuMDE1IDEzLjAxNSAwIDAgMCAxNiAzbTAgMjRhMTEgMTEgMCAxIDEgMTEtMTEgMTEuMDEgMTEuMDEgMCAwIDEtMTEgMTEiLz48cGF0aCBmaWxsPSIjQjIwRjAzIiBkPSJNMTcuMDM4IDE4LjYxNUgxNC44N0wxNC41NjMgOS41aDIuNzgzem0tMS4wODQgMS40MjdxLjY2IDAgMS4wNTcuMzg4LjQwNy4zODkuNDA3Ljk5NCAwIC41OTYtLjQwNy45ODQtLjM5Ny4zOS0xLjA1Ny4zODktLjY1IDAtMS4wNTYtLjM4OS0uMzk4LS4zODktLjM5OC0uOTg0IDAtLjU5Ny4zOTgtLjk4NS40MDYtLjM5NyAxLjA1Ni0uMzk3Ii8+PC9zdmc+)}body.light{background-color:transparent;color:#313131}body.light a{color:#0051c3}body.light a:hover{color:#ee730a;text-decoration:underline}body.light .lds-ring div{border-color:#595959 transparent transparent}body.light .font-red{color:#fc574a}body.light .pow-button{background-color:#003681;border-color:#003681;color:#fff}body.light #challenge-success-text{background-image:url(data:image/svg+xml;base64,PHN2ZyB4bWxucz0iaHR0cDovL3d3dy53My5vcmcvMjAwMC9zdmciIHdpZHRoPSIzMiIgaGVpZ2h0PSIzMiIgZmlsbD0ibm9uZSIgdmlld0JveD0iMCAwIDI2IDI2Ij48cGF0aCBmaWxsPSIjMzEzMTMxIiBkPSJNMTMgMGExMyAxMyAwIDEgMCAwIDI2IDEzIDEzIDAgMCAwIDAtMjZtMCAyNGExMSAxMSAwIDEgMSAwLTIyIDExIDExIDAgMCAxIDAgMjIiLz48cGF0aCBmaWxsPSIjMzEzMTMxIiBkPSJtMTAuOTU1IDE2LjA1NS0zLjk1LTQuMTI1LTEuNDQ1IDEuMzg1IDUuMzcgNS42MSA5LjQ5NS05LjYtMS40Mi0xLjQwNXoiLz48L3N2Zz4=)}body.light #challenge-error-text{background-image:url(data:image/svg+xml;base64,PHN2ZyB4bWxucz0iaHR0cDovL3d3dy53My5vcmcvMjAwMC9zdmciIHdpZHRoPSIzMiIgaGVpZ2h0PSIzMiIgZmlsbD0ibm9uZSI+PHBhdGggZmlsbD0iI2ZjNTc0YSIgZD0iTTE2IDNhMTMgMTMgMCAxIDAgMTMgMTNBMTMuMDE1IDEzLjAxNSAwIDAgMCAxNiAzbTAgMjRhMTEgMTEgMCAxIDEgMTEtMTEgMTEuMDEgMTEuMDEgMCAwIDEtMTEgMTEiLz48cGF0aCBmaWxsPSIjZmM1NzRhIiBkPSJNMTcuMDM4IDE4LjYxNUgxNC44N0wxNC41NjMgOS41aDIuNzgzem0tMS4wODQgMS40MjdxLjY2IDAgMS4wNTcuMzg4LjQwNy4zODkuNDA3Ljk5NCAwIC41OTYtLjQwNy45ODQtLjM5Ny4zOS0xLjA1Ny4zODktLjY1IDAtMS4wNTYtLjM4OS0uMzk4LS4zODktLjM5OC0uOTg0IDAtLjU5Ny4zOTgtLjk4NS40MDYtLjM5NyAxLjA1Ni0uMzk3Ii8+PC9zdmc+)}a{background-color:transparent;color:#0051c3;text-decoration:none;transition:color .15s ease}a:hover{color:#ee730a;text-decoration:underline}.main-content{margin:8rem auto;max-width:60rem;width:100%}.heading-favicon{height:2rem;margin-right:.5rem;width:2rem}@media (width <= 720px){.main-content{margin-top:4rem}.heading-favicon{height:1.5rem;width:1.5rem}}.footer,.main-content{padding-left:1.5rem;padding-right:1.5rem}.main-wrapper{align-items:center;display:flex;flex:1;flex-direction:column}.font-red{color:#b20f03}.spacer{margin:2rem 0}.h1{font-size:2.5rem;font-weight:500;line-height:3.75rem}.h2{font-weight:500}.core-msg,.h2{font-size:1.5rem;line-height:2.25rem}.body-text,.core-msg{font-weight:400}.body-text{font-size:1rem;line-height:1.25rem}@media (width <= 720px){.h1{font-size:1.5rem;line-height:1.75rem}.h2{font-size:1.25rem}.core-msg,.h2{line-height:1.5rem}.core-msg{font-size:1rem}}#challenge-error-text{background-image:url(data:image/svg+xml;base64,PHN2ZyB4bWxucz0iaHR0cDovL3d3dy53My5vcmcvMjAwMC9zdmciIHdpZHRoPSIzMiIgaGVpZ2h0PSIzMiIgZmlsbD0ibm9uZSI+PHBhdGggZmlsbD0iI2ZjNTc0YSIgZD0iTTE2IDNhMTMgMTMgMCAxIDAgMTMgMTNBMTMuMDE1IDEzLjAxNSAwIDAgMCAxNiAzbTAgMjRhMTEgMTEgMCAxIDEgMTEtMTEgMTEuMDEgMTEuMDEgMCAwIDEtMTEgMTEiLz48cGF0aCBmaWxsPSIjZmM1NzRhIiBkPSJNMTcuMDM4IDE4LjYxNUgxNC44N0wxNC41NjMgOS41aDIuNzgzem0tMS4wODQgMS40MjdxLjY2IDAgMS4wNTcuMzg4LjQwNy4zODkuNDA3Ljk5NCAwIC41OTYtLjQwNy45ODQtLjM5Ny4zOS0xLjA1Ny4zODktLjY1IDAtMS4wNTYtLjM4OS0uMzk4LS4zODktLjM5OC0uOTg0IDAtLjU5Ny4zOTgtLjk4NS40MDYtLjM5NyAxLjA1Ni0uMzk3Ii8+PC9zdmc+);padding-left:34px}#challenge-error-text,#challenge-success-text{background-repeat:no-repeat;background-size:contain}#challenge-success-text{background-image:url(data:image/svg+xml;base64,PHN2ZyB4bWxucz0iaHR0cDovL3d3dy53My5vcmcvMjAwMC9zdmciIHdpZHRoPSIzMiIgaGVpZ2h0PSIzMiIgZmlsbD0ibm9uZSIgdmlld0JveD0iMCAwIDI2IDI2Ij48cGF0aCBmaWxsPSIjMzEzMTMxIiBkPSJNMTMgMGExMyAxMyAwIDEgMCAwIDI2IDEzIDEzIDAgMCAwIDAtMjZtMCAyNGExMSAxMSAwIDEgMSAwLTIyIDExIDExIDAgMCAxIDAgMjIiLz48cGF0aCBmaWxsPSIjMzEzMTMxIiBkPSJtMTAuOTU1IDE2LjA1NS0zLjk1LTQuMTI1LTEuNDQ1IDEuMzg1IDUuMzcgNS42MSA5LjQ5NS05LjYtMS40Mi0xLjQwNXoiLz48L3N2Zz4=);padding-left:42px}.text-center{text-align:center}.pow-button{background-color:#0051c3;border:.063rem solid #0051c3;border-radius:.313rem;color:#fff;font-size:.875rem;line-height:1.313rem;margin:2rem 0;padding:.375rem 1rem;transition-duration:.2s;transition-property:background-color,border-color,color;transition-timing-function:ease}.pow-button:hover{background-color:#003681;border-color:#003681;color:#fff;cursor:pointer}.footer{font-size:.75rem;line-height:1.125rem;margin:0 auto;max-width:60rem;width:100%}.footer-inner{border-top:1px solid #d9d9d9;padding-bottom:1rem;padding-top:1rem}.clearfix:after{clear:both;content:\"\";display:table}.clearfix .column{float:left;padding-right:1.5rem;width:50%}.diagnostic-wrapper{margin-bottom:.5rem}.footer .ray-id{text-align:center}.footer .ray-id code{font-family:monaco,courier,monospace}.core-msg,.zone-name-title{overflow-wrap:break-word}@media (width <= 720px){.diagnostic-wrapper{display:flex;flex-wrap:wrap;justify-content:center}.clearfix:after{clear:none;content:none;display:initial;text-align:center}.column{padding-bottom:2rem}.clearfix .column{float:none;padding:0;width:auto;word-break:keep-all}.zone-name-title{margin-bottom:1rem}}.loading-spinner{height:76.391px}.lds-ring{display:inline-block;position:relative}.lds-ring,.lds-ring div{height:1.875rem;width:1.875rem}.lds-ring div{animation:lds-ring 1.2s cubic-bezier(.5,0,.5,1) infinite;border:.3rem solid transparent;border-radius:50%;border-top-color:#313131;box-sizing:border-box;display:block;position:absolute}.lds-ring div:first-child{animation-delay:-.45s}.lds-ring div:nth-child(2){animation-delay:-.3s}.lds-ring div:nth-child(3){animation-delay:-.15s}@keyframes lds-ring{0%{transform:rotate(0)}to{transform:rotate(1turn)}}@media screen and (-ms-high-contrast:active),screen and (-ms-high-contrast:none){.main-wrapper,body{display:block}}.rtl .heading-favicon{margin-left:.5rem;margin-right:0}.rtl #challenge-success-text{background-position:100%;padding-left:0;padding-right:42px}.rtl #challenge-error-text{background-position:100%;padding-left:0;padding-right:34px}\n",
      "  </style>\n",
      "  <meta content=\"390\" http-equiv=\"refresh\"/>\n",
      " </head>\n",
      " <body class=\"no-js\">\n",
      "  <div class=\"main-wrapper\" role=\"main\">\n",
      "   <div class=\"main-content\">\n",
      "    <noscript>\n",
      "     <div id=\"challenge-error-title\">\n",
      "      <div class=\"h2\">\n",
      "       <span id=\"challenge-error-text\">\n",
      "        Enable JavaScript and cookies to continue\n",
      "       </span>\n",
      "      </div>\n",
      "     </div>\n",
      "    </noscript>\n",
      "   </div>\n",
      "  </div>\n",
      "  <script>\n",
      "   (function(){window._cf_chl_opt={cvId: '3',cZone: \"www.zaubacorp.com\",cType: 'managed',cNounce: '43650',cRay: '8a49800f0df45fb1',cHash: 'b5ef679adb51276',cUPMDTk: \"\\/company-list?__cf_chl_tk=Qy.1Vtc74gpNLajOzifeNiVgMOwBd4p56.R7OOSIEUY-1721211635-0.0.1.1-3817\",cFPWv: 'g',cTTimeMs: '1000',cMTimeMs: '390000',cTplV: 5,cTplB: 'cf',cK: \"\",fa: \"\\/company-list?__cf_chl_f_tk=Qy.1Vtc74gpNLajOzifeNiVgMOwBd4p56.R7OOSIEUY-1721211635-0.0.1.1-3817\",md: \"DaKB95cIaBwSpKkWkj.dK_wuIrQEqXWYLVzYuvA94ZA-1721211635-1.1.1.1-qYnGYV15scTvGoGPWXi4mpPV1O8nkviEWcE9et2K0GXyYdENlnuQEH2nWgxhQhl7Dgfn6mynamITr6bE25zJM1JV8Y96F7JuupWwRN44itjy2YDm2tCQ7x0aXvtZ2zGRlUndE8o7f2Sz6paiqkjEqeWst9HoOopS.F8xU6Bme9kMS4_odVVcPKXvnxobd4zf5HcMC_A_D7ylDvnUaNV2fHjliTPWvRyQP5uEMrgEeyxKq_DBogjL21EzeD1fO7XlTvyT2pRN1r3Vq9uOvD22RCtwCUgllshsg_ngMslvTRNlidApGIu3qS_XycgBvED3Z4LZagFwSH5mlfMSTEQuzEWMb4n186wK9MGKTtinmcb_yXWk6rOLb5N4Z7RLFSHlI8vIMfa_0cMDK8Cc7XrGGgdy_xM7abRgZYwpnqQZsnx.WAfmjkS7i3Kh1CTWHPxp7ZrR2YGlIRWNl6VtoGhTGFBo_wuCGOrSxYEgPXmnICLxD8MizES6rrhKsJQ5BfsnqQiHtCgrDBHoly_cq3K4ee5c4AtLtrMsONCwyPgmFeN.aEOlpZeOO89IMJwE.4gmjvaAaX4BbLUCoP4djFYGSrghALBCgHGKdgztst9zHPzuIbATLzCvXUVB55AbtYVpyrc8SkGf5VQ_ToyqKmPb4ywi3hY7PlCeijHhSj1yn.kZDH_Q68j7bsoCR4JD7cp4jxPVK_c1Jb4ESSuHHcnf.DpwF0OOQo0XjCAGny.GYqSDxSfrYue4a6cmMYU9Z_028Lz6NKU17hcvLvPY.3X3rr9MLf46_RmPqeyJgTK5tEZKF.1HLbTMBqjr3MWJdtAnZk49ZfVeFi4AnFW5zQITgcv3MmybydDtNm1Ctew.Tfqhzr83OIKRXs5dQFcH95LW1ZHBM5YiVGhHjCRR0EdCFW.9nDrbQrIqb3hHs1xrgpU_PXp7TLYncJBQT7lgMtcSEcueBGwBJGw8pKPXdOAWh3Qd1iXE3tiETHVZ.hUshq9Kim36qu.phXVFSaES4zp5ImOvP4lx1YuByuX59UAXAf39DK3EnUEpYTZHwbznuYnyEHjJs5GGQgUd3PUDXMZMuaZ0AtiVU2MYqBeZkT2DzLwygPFgB6HCBJCg4HScVHtf295t8lAm9Tym1vcCIYaqJMke_yplVA8UdAil6NShWQmtrvRapfxxNY5EnOH5nX1ymcdgliWxAlXag5VLh.iAe0B6ErX9ktPAiQrZX00uRTBTLmZQ7kVfPTD8NhY51K5F8ycrEl62HnK0uidHb35rwHZUA8a_txw7wgxHZDBodDiWdN42wmyZSTzjTojzdY9Z22HKiE1hGPkzR34CahFTZau7cls7ITNbOklFDO33L_on_CAYo3FuU5KR3npaVvXzbLFdAu_M79QHlNydr6ZjzeGGQIXj5P6oRkKxzUQQTL4IU9a_O8myYcNrAhfj01_wdihEnapDo3fUvAfwFBl6\",mdrd: \"SVTY07Hl8UBuefDoT9RxvBRCu1CFPaWsJ0WrkZnrRys-1721211635-1.1.1.1-1MMhmNY1MRQKcFwwFqBkNTwFJGHIeMwaNnDHiWQIMj2Kpj6xC9p2Uj79wtVbY2srfJr8Im6qIAvDi7pWURl8AHSL9RO_SYl.PnfvgZ2u4XjajYf2xXGB71vbz.YeajA1za7Qr1NQJ2N1k.hwZghLmmS3kkDYbfO_oTcs7UtkMaE7KbxGgA25SPSyhwu.9o4vLRr4K5ClJwD.a2lczLRg3bil_uOFU30A5V_4coHxwyJkmks8lSTqS5bdhkUGIvAaRZIdM6y6UPEQGXYQwK7XfBjX8iwi2CtnwRTE9R_hwyoWoeEon3P1TnXF1gx9vwrajTgGHKnTrBGhrFF7XKmF7QeHpSCf0L_Gs9pCokDfFmu3XeO1ZgBEhHumN_LQzQNvZaVbqKFag5FFr1zblsACGV4pratM5AhAfdzZL8a0hp.9FhWxrx4048PFbsJOPNI_Qxw5jq3wBO8dGqJkJoQiXnlZR2cNcsiJtj4KAuTJ3EriKyFN8.5Nu_KX0P1BqHilaVw_.uC_Vz5zs4NlN4mAJSf.XA9Z3rGQT7Aouhx2Dn0zCPu5diOufTjFEbRP2YMPAg.UOEUC4OZSglEA1aPeBBPsgGmv9cXXcpnLO17RQuAnxBdiVHrXhbSJPkTxl0QORZyw28wZJA7uQ13a8tUyQP3Z8bFaZWBvkV6kUqPfINFk7fUN.3E8mwDknXRa8XmelKZUvjjzoULxvcCCcISIUhFmhXoKrbCsMIYEhgBFf5ten6YHycM6Q8CKGaK8OR1CZv3K09Qmq6smVAbK2ihqEYF7JWrMmPmlZroSEsC4HJ3yBJPZ.6.fQZKLk1mDxX5tpIfkoeqISJ_OrpAml1uQXlltKFWH8Tcp3Iga8IODdPObXpgCb9sZzNAZ.dmDcnnJXSmx4K1Zz3dmkcerocAB_91dA0YSekjb.lWGkF_mUeBwIeqBg4fiVTFiTcAjEVEXpdd6wEzcA0bRyVr.E13pDB3Mb9eoTQ3rbWZkW3DQLY5uGk8LaFceBvWpZxmcidP0nJRpdPacdbgwCX4JUlwf6Bx.w0uCh_FULBUOkK43Rs4WeuayyAtrhSeAM58nyLG0pGzMLs2Xg5fZ_zTWG78MjHVYhdFo9Wh.Bcq33.vaDkafKhUwOpezOct9U88g3Cr_MEPvXEKD43CbIzxEd7masWOdQiTqVwHzhtSVftO5wK2jlYufNmYeaVMoRBovo0fp0jWMW8n4qtlftbl5QZ6l3NabwrnrYJ4.YqYQ7oVJh2Q2AOnN9eikSXovutzQdxaVh4kA4XzwQaQi7MaiTMaaj8BODs4UuHAFYjunA8TLbev5JvAP77Ir6Q8QaMosohXugahJ2otlY4rQjZ6BJLiDKXk6TJDRPQOtsoLcHurIs3dIDeyDmnPaVrIaN1BXJHkFE5AHxtoIOgX5.fna1gEYtlTLWBmOQOK6qckVSp6KaLLXPpTa0ySxet3c88VT2vCk1KP52N1sh3Vt9YbL58mJ2KsHElxoD1VqbsJkh_y_Ui_WkafKxIO1d2MfIPK6qury1aeJo4RNQTNOlTSTXXZnL9SnZWusEXtSVGRbWJ0IKAP3lSXp.G7BsJjmiN6rziegi0QvMWaZ7yrXuMTytuRDnmsVo1CT.B5mFEoWtLMs67KPsbI9Qsvlg_21CCJ28AaHHEC40nCROanD5yZnMqZxov0OPuRe.5dPQCDfbG88fOP.OEzYBTJEpST2sG3JoPbdoTfKEShblHMARs90lpHtMVU.esnm84.rart0_gUhL_bfeAZnLCpo22HrcqSHUDaDvYYR3bfO8PKf.HjM2bZ1.OzcWdUboP.1muaNBSKIyr1A.fm3kuMn7rZMZBBezggMglBJseISvZ0zPKxjPZMcTf3LYCelZofCkmf6AU5xR.McUBzA4F2a0vaZU_sIifKU8XnukoXUMOBwOJ.gJPzKpLIk.4bdJy2mjh8RXkg9ocJlRzUuBi5PRQklcoWxSEdfH932u2usN8cMHRaBy1HhJXP89xGlRtmIGgwVqGd_8Jj1wHhkcBVJeGAkj2s6qFlkNjRE99XN9loj3c.C1QQYAsin7U1a868Cco37smpmnDKDK7C5akFuhK2UAiLynC1_nafHtjQZV0L.PBZ7zHllOZFeVZxd9UC2dUQMeb8Wfu58qiwQknuB3HX5w9FnFaP.j6uJDPS8h7hJ0nLazrnXeWATmzlR0EKHqr4cEzc9WHI\",cRq: {ru: 'aHR0cHM6Ly93d3cuemF1YmFjb3JwLmNvbS9jb21wYW55LWxpc3Q=',ra: 'TW96aWxsYS81LjAgKFdpbmRvd3MgTlQgMTAuMDsgV2luNjQ7IHg2NCkgQXBwbGVXZWJLaXQvNTM3LjM2IChLSFRNTCwgbGlrZSBHZWNrbykgQ2hyb21lLzEyNi4wLjAuMCBTYWZhcmkvNTM3LjM2',rm: 'R0VU',d: 'fCCtkG4TL6/tbiyz46YOkD1CXG9oP8U5YkzLEjPfEL8B1v3okR15Rc7f0IDqBnVqJUGyqEj10IHZRU5vglUS5Eklp6Ctf3xgO3KzTl2fssyzZiaXfTEc6FoMT9W5RmZiGO4+OsW20U1ZO5QR3zs1BJuAUhirzyahiRs4/j62HFCdx7RhVmt5ouPTdmCnY8qsDpN7LtnRT8rqpwdTjwffIeFfsFx7quWAYDwaeEGsvYfLZqxPGsK1+vJBAIALyqtlTZqF4Pmn+MO59lBxqquiOJrtem9vhZSWH4xKt7EKtyqo2ElAMQ8bIexPAIH9WvkvXPF2IJp8zR9GMMB59bY7YLEEYPJrj8MYjtPnVHxnaCuRJJQD1vdZgOueSE5rwpVLURoKiIaMPufup+GxzmpHiRGTNNTKY3lTi9q5zw1Hsl0Dtighv/HJ3vmrRz6OKWeoKFe1+Q8z6C2sA1wv76kj+vwZyVjrzODp92S12/y4wF1LXdCJl9THEDlxZEE7jEX8lszTmOz/lYmk3qWoZYHhAA==',t: 'MTcyMTIxMTYzNS4wMDAwMDA=',cT: Math.floor(Date.now() / 1000),m: 'cRA7WD8MN2+wXFp39I4P7f+PM04ITki+p1r0syxGSmA=',i1: 'rIJfLumPFAlWkxtA4cfCEg==',i2: 'bFdBSldhdllLBGt51nyYmA==',zh: 'cAXabZ3iv9of56+SHEKLF3RRufZXVP5AXoioO0sBbkM=',uh: 'y7MElp6JGabrGbuU9rlNtGPx+I4/4okElMeHvMobjs8=',hh: 'cdMo8k+K/iMULBFhEQlxUcrvXf8N78SkJEH+Ns7Aef8=',}};var cpo = document.createElement('script');cpo.src = '/cdn-cgi/challenge-platform/h/g/orchestrate/chl_page/v1?ray=8a49800f0df45fb1';window._cf_chl_opt.cOgUHash = location.hash === '' && location.href.indexOf('#') !== -1 ? '#' : location.hash;window._cf_chl_opt.cOgUQuery = location.search === '' && location.href.slice(0, location.href.length - window._cf_chl_opt.cOgUHash.length).indexOf('?') !== -1 ? '?' : location.search;if (window.history && window.history.replaceState) {var ogU = location.pathname + window._cf_chl_opt.cOgUQuery + window._cf_chl_opt.cOgUHash;history.replaceState(null, null, \"\\/company-list?__cf_chl_rt_tk=Qy.1Vtc74gpNLajOzifeNiVgMOwBd4p56.R7OOSIEUY-1721211635-0.0.1.1-3817\" + window._cf_chl_opt.cOgUHash);cpo.onload = function() {history.replaceState(null, null, ogU);}}document.getElementsByTagName('head')[0].appendChild(cpo);}());\n",
      "  </script>\n",
      " </body>\n",
      "</html>\n",
      "\n"
     ]
    }
   ],
   "execution_count": 25
  },
  {
   "metadata": {
    "ExecuteTime": {
     "end_time": "2024-07-17T10:23:29.174431Z",
     "start_time": "2024-07-17T10:23:29.161006Z"
    }
   },
   "cell_type": "code",
   "source": "#!pip install html5lib",
   "id": "8b13eeb2b3aa2416",
   "outputs": [],
   "execution_count": 9
  },
  {
   "metadata": {
    "ExecuteTime": {
     "end_time": "2024-07-17T10:27:58.938897Z",
     "start_time": "2024-07-17T10:27:58.929335Z"
    }
   },
   "cell_type": "code",
   "source": "soup.find('div', '2,723,070 Companies Found')",
   "id": "f1df6de3a63dbd44",
   "outputs": [],
   "execution_count": 21
  },
  {
   "metadata": {},
   "cell_type": "code",
   "outputs": [],
   "execution_count": null,
   "source": "",
   "id": "202413196f19d39f"
  },
  {
   "metadata": {
    "ExecuteTime": {
     "end_time": "2024-07-17T10:26:48.143648Z",
     "start_time": "2024-07-17T10:26:48.133460Z"
    }
   },
   "cell_type": "code",
   "source": "tables = soup.find_all('table', 'table')",
   "id": "6f90a6a94ea9516c",
   "outputs": [],
   "execution_count": 19
  },
  {
   "metadata": {
    "ExecuteTime": {
     "end_time": "2024-07-17T10:24:36.518934Z",
     "start_time": "2024-07-17T10:24:36.244036Z"
    }
   },
   "cell_type": "code",
   "source": "tables",
   "id": "5c4eb8c918fea3f4",
   "outputs": [],
   "execution_count": 15
  },
  {
   "metadata": {
    "ExecuteTime": {
     "end_time": "2024-07-17T09:41:21.813062Z",
     "start_time": "2024-07-17T09:41:21.756090Z"
    }
   },
   "cell_type": "code",
   "source": "pd.read_html(str(tables))",
   "id": "25db325382478931",
   "outputs": [
    {
     "name": "stderr",
     "output_type": "stream",
     "text": [
      "C:\\Users\\shubh\\AppData\\Local\\Temp\\ipykernel_21524\\2126409953.py:1: FutureWarning: Passing literal html to 'read_html' is deprecated and will be removed in a future version. To read from a literal string, wrap it in a 'StringIO' object.\n",
      "  pd.read_html(str(tables))\n"
     ]
    },
    {
     "ename": "FeatureNotFound",
     "evalue": "Couldn't find a tree builder with the features you requested: html5lib. Do you need to install a parser library?",
     "output_type": "error",
     "traceback": [
      "\u001B[1;31m---------------------------------------------------------------------------\u001B[0m",
      "\u001B[1;31mFeatureNotFound\u001B[0m                           Traceback (most recent call last)",
      "Cell \u001B[1;32mIn[54], line 1\u001B[0m\n\u001B[1;32m----> 1\u001B[0m \u001B[43mpd\u001B[49m\u001B[38;5;241;43m.\u001B[39;49m\u001B[43mread_html\u001B[49m\u001B[43m(\u001B[49m\u001B[38;5;28;43mstr\u001B[39;49m\u001B[43m(\u001B[49m\u001B[43mtables\u001B[49m\u001B[43m)\u001B[49m\u001B[43m)\u001B[49m\n",
      "File \u001B[1;32m~\\Desktop\\Desktop\\programming\\UptoSkill\\Web Scrapping\\.venv\\Lib\\site-packages\\pandas\\io\\html.py:1240\u001B[0m, in \u001B[0;36mread_html\u001B[1;34m(io, match, flavor, header, index_col, skiprows, attrs, parse_dates, thousands, encoding, decimal, converters, na_values, keep_default_na, displayed_only, extract_links, dtype_backend, storage_options)\u001B[0m\n\u001B[0;32m   1224\u001B[0m \u001B[38;5;28;01mif\u001B[39;00m \u001B[38;5;28misinstance\u001B[39m(io, \u001B[38;5;28mstr\u001B[39m) \u001B[38;5;129;01mand\u001B[39;00m \u001B[38;5;129;01mnot\u001B[39;00m \u001B[38;5;28many\u001B[39m(\n\u001B[0;32m   1225\u001B[0m     [\n\u001B[0;32m   1226\u001B[0m         is_file_like(io),\n\u001B[1;32m   (...)\u001B[0m\n\u001B[0;32m   1230\u001B[0m     ]\n\u001B[0;32m   1231\u001B[0m ):\n\u001B[0;32m   1232\u001B[0m     warnings\u001B[38;5;241m.\u001B[39mwarn(\n\u001B[0;32m   1233\u001B[0m         \u001B[38;5;124m\"\u001B[39m\u001B[38;5;124mPassing literal html to \u001B[39m\u001B[38;5;124m'\u001B[39m\u001B[38;5;124mread_html\u001B[39m\u001B[38;5;124m'\u001B[39m\u001B[38;5;124m is deprecated and \u001B[39m\u001B[38;5;124m\"\u001B[39m\n\u001B[0;32m   1234\u001B[0m         \u001B[38;5;124m\"\u001B[39m\u001B[38;5;124mwill be removed in a future version. To read from a \u001B[39m\u001B[38;5;124m\"\u001B[39m\n\u001B[1;32m   (...)\u001B[0m\n\u001B[0;32m   1237\u001B[0m         stacklevel\u001B[38;5;241m=\u001B[39mfind_stack_level(),\n\u001B[0;32m   1238\u001B[0m     )\n\u001B[1;32m-> 1240\u001B[0m \u001B[38;5;28;01mreturn\u001B[39;00m \u001B[43m_parse\u001B[49m\u001B[43m(\u001B[49m\n\u001B[0;32m   1241\u001B[0m \u001B[43m    \u001B[49m\u001B[43mflavor\u001B[49m\u001B[38;5;241;43m=\u001B[39;49m\u001B[43mflavor\u001B[49m\u001B[43m,\u001B[49m\n\u001B[0;32m   1242\u001B[0m \u001B[43m    \u001B[49m\u001B[43mio\u001B[49m\u001B[38;5;241;43m=\u001B[39;49m\u001B[43mio\u001B[49m\u001B[43m,\u001B[49m\n\u001B[0;32m   1243\u001B[0m \u001B[43m    \u001B[49m\u001B[43mmatch\u001B[49m\u001B[38;5;241;43m=\u001B[39;49m\u001B[43mmatch\u001B[49m\u001B[43m,\u001B[49m\n\u001B[0;32m   1244\u001B[0m \u001B[43m    \u001B[49m\u001B[43mheader\u001B[49m\u001B[38;5;241;43m=\u001B[39;49m\u001B[43mheader\u001B[49m\u001B[43m,\u001B[49m\n\u001B[0;32m   1245\u001B[0m \u001B[43m    \u001B[49m\u001B[43mindex_col\u001B[49m\u001B[38;5;241;43m=\u001B[39;49m\u001B[43mindex_col\u001B[49m\u001B[43m,\u001B[49m\n\u001B[0;32m   1246\u001B[0m \u001B[43m    \u001B[49m\u001B[43mskiprows\u001B[49m\u001B[38;5;241;43m=\u001B[39;49m\u001B[43mskiprows\u001B[49m\u001B[43m,\u001B[49m\n\u001B[0;32m   1247\u001B[0m \u001B[43m    \u001B[49m\u001B[43mparse_dates\u001B[49m\u001B[38;5;241;43m=\u001B[39;49m\u001B[43mparse_dates\u001B[49m\u001B[43m,\u001B[49m\n\u001B[0;32m   1248\u001B[0m \u001B[43m    \u001B[49m\u001B[43mthousands\u001B[49m\u001B[38;5;241;43m=\u001B[39;49m\u001B[43mthousands\u001B[49m\u001B[43m,\u001B[49m\n\u001B[0;32m   1249\u001B[0m \u001B[43m    \u001B[49m\u001B[43mattrs\u001B[49m\u001B[38;5;241;43m=\u001B[39;49m\u001B[43mattrs\u001B[49m\u001B[43m,\u001B[49m\n\u001B[0;32m   1250\u001B[0m \u001B[43m    \u001B[49m\u001B[43mencoding\u001B[49m\u001B[38;5;241;43m=\u001B[39;49m\u001B[43mencoding\u001B[49m\u001B[43m,\u001B[49m\n\u001B[0;32m   1251\u001B[0m \u001B[43m    \u001B[49m\u001B[43mdecimal\u001B[49m\u001B[38;5;241;43m=\u001B[39;49m\u001B[43mdecimal\u001B[49m\u001B[43m,\u001B[49m\n\u001B[0;32m   1252\u001B[0m \u001B[43m    \u001B[49m\u001B[43mconverters\u001B[49m\u001B[38;5;241;43m=\u001B[39;49m\u001B[43mconverters\u001B[49m\u001B[43m,\u001B[49m\n\u001B[0;32m   1253\u001B[0m \u001B[43m    \u001B[49m\u001B[43mna_values\u001B[49m\u001B[38;5;241;43m=\u001B[39;49m\u001B[43mna_values\u001B[49m\u001B[43m,\u001B[49m\n\u001B[0;32m   1254\u001B[0m \u001B[43m    \u001B[49m\u001B[43mkeep_default_na\u001B[49m\u001B[38;5;241;43m=\u001B[39;49m\u001B[43mkeep_default_na\u001B[49m\u001B[43m,\u001B[49m\n\u001B[0;32m   1255\u001B[0m \u001B[43m    \u001B[49m\u001B[43mdisplayed_only\u001B[49m\u001B[38;5;241;43m=\u001B[39;49m\u001B[43mdisplayed_only\u001B[49m\u001B[43m,\u001B[49m\n\u001B[0;32m   1256\u001B[0m \u001B[43m    \u001B[49m\u001B[43mextract_links\u001B[49m\u001B[38;5;241;43m=\u001B[39;49m\u001B[43mextract_links\u001B[49m\u001B[43m,\u001B[49m\n\u001B[0;32m   1257\u001B[0m \u001B[43m    \u001B[49m\u001B[43mdtype_backend\u001B[49m\u001B[38;5;241;43m=\u001B[39;49m\u001B[43mdtype_backend\u001B[49m\u001B[43m,\u001B[49m\n\u001B[0;32m   1258\u001B[0m \u001B[43m    \u001B[49m\u001B[43mstorage_options\u001B[49m\u001B[38;5;241;43m=\u001B[39;49m\u001B[43mstorage_options\u001B[49m\u001B[43m,\u001B[49m\n\u001B[0;32m   1259\u001B[0m \u001B[43m\u001B[49m\u001B[43m)\u001B[49m\n",
      "File \u001B[1;32m~\\Desktop\\Desktop\\programming\\UptoSkill\\Web Scrapping\\.venv\\Lib\\site-packages\\pandas\\io\\html.py:1003\u001B[0m, in \u001B[0;36m_parse\u001B[1;34m(flavor, io, match, attrs, encoding, displayed_only, extract_links, storage_options, **kwargs)\u001B[0m\n\u001B[0;32m   1001\u001B[0m \u001B[38;5;28;01melse\u001B[39;00m:\n\u001B[0;32m   1002\u001B[0m     \u001B[38;5;28;01massert\u001B[39;00m retained \u001B[38;5;129;01mis\u001B[39;00m \u001B[38;5;129;01mnot\u001B[39;00m \u001B[38;5;28;01mNone\u001B[39;00m  \u001B[38;5;66;03m# for mypy\u001B[39;00m\n\u001B[1;32m-> 1003\u001B[0m     \u001B[38;5;28;01mraise\u001B[39;00m retained\n\u001B[0;32m   1005\u001B[0m ret \u001B[38;5;241m=\u001B[39m []\n\u001B[0;32m   1006\u001B[0m \u001B[38;5;28;01mfor\u001B[39;00m table \u001B[38;5;129;01min\u001B[39;00m tables:\n",
      "File \u001B[1;32m~\\Desktop\\Desktop\\programming\\UptoSkill\\Web Scrapping\\.venv\\Lib\\site-packages\\pandas\\io\\html.py:983\u001B[0m, in \u001B[0;36m_parse\u001B[1;34m(flavor, io, match, attrs, encoding, displayed_only, extract_links, storage_options, **kwargs)\u001B[0m\n\u001B[0;32m    972\u001B[0m p \u001B[38;5;241m=\u001B[39m parser(\n\u001B[0;32m    973\u001B[0m     io,\n\u001B[0;32m    974\u001B[0m     compiled_match,\n\u001B[1;32m   (...)\u001B[0m\n\u001B[0;32m    979\u001B[0m     storage_options,\n\u001B[0;32m    980\u001B[0m )\n\u001B[0;32m    982\u001B[0m \u001B[38;5;28;01mtry\u001B[39;00m:\n\u001B[1;32m--> 983\u001B[0m     tables \u001B[38;5;241m=\u001B[39m \u001B[43mp\u001B[49m\u001B[38;5;241;43m.\u001B[39;49m\u001B[43mparse_tables\u001B[49m\u001B[43m(\u001B[49m\u001B[43m)\u001B[49m\n\u001B[0;32m    984\u001B[0m \u001B[38;5;28;01mexcept\u001B[39;00m \u001B[38;5;167;01mValueError\u001B[39;00m \u001B[38;5;28;01mas\u001B[39;00m caught:\n\u001B[0;32m    985\u001B[0m     \u001B[38;5;66;03m# if `io` is an io-like object, check if it's seekable\u001B[39;00m\n\u001B[0;32m    986\u001B[0m     \u001B[38;5;66;03m# and try to rewind it before trying the next parser\u001B[39;00m\n\u001B[0;32m    987\u001B[0m     \u001B[38;5;28;01mif\u001B[39;00m \u001B[38;5;28mhasattr\u001B[39m(io, \u001B[38;5;124m\"\u001B[39m\u001B[38;5;124mseekable\u001B[39m\u001B[38;5;124m\"\u001B[39m) \u001B[38;5;129;01mand\u001B[39;00m io\u001B[38;5;241m.\u001B[39mseekable():\n",
      "File \u001B[1;32m~\\Desktop\\Desktop\\programming\\UptoSkill\\Web Scrapping\\.venv\\Lib\\site-packages\\pandas\\io\\html.py:249\u001B[0m, in \u001B[0;36m_HtmlFrameParser.parse_tables\u001B[1;34m(self)\u001B[0m\n\u001B[0;32m    241\u001B[0m \u001B[38;5;28;01mdef\u001B[39;00m \u001B[38;5;21mparse_tables\u001B[39m(\u001B[38;5;28mself\u001B[39m):\n\u001B[0;32m    242\u001B[0m \u001B[38;5;250m    \u001B[39m\u001B[38;5;124;03m\"\"\"\u001B[39;00m\n\u001B[0;32m    243\u001B[0m \u001B[38;5;124;03m    Parse and return all tables from the DOM.\u001B[39;00m\n\u001B[0;32m    244\u001B[0m \n\u001B[1;32m   (...)\u001B[0m\n\u001B[0;32m    247\u001B[0m \u001B[38;5;124;03m    list of parsed (header, body, footer) tuples from tables.\u001B[39;00m\n\u001B[0;32m    248\u001B[0m \u001B[38;5;124;03m    \"\"\"\u001B[39;00m\n\u001B[1;32m--> 249\u001B[0m     tables \u001B[38;5;241m=\u001B[39m \u001B[38;5;28mself\u001B[39m\u001B[38;5;241m.\u001B[39m_parse_tables(\u001B[38;5;28;43mself\u001B[39;49m\u001B[38;5;241;43m.\u001B[39;49m\u001B[43m_build_doc\u001B[49m\u001B[43m(\u001B[49m\u001B[43m)\u001B[49m, \u001B[38;5;28mself\u001B[39m\u001B[38;5;241m.\u001B[39mmatch, \u001B[38;5;28mself\u001B[39m\u001B[38;5;241m.\u001B[39mattrs)\n\u001B[0;32m    250\u001B[0m     \u001B[38;5;28;01mreturn\u001B[39;00m (\u001B[38;5;28mself\u001B[39m\u001B[38;5;241m.\u001B[39m_parse_thead_tbody_tfoot(table) \u001B[38;5;28;01mfor\u001B[39;00m table \u001B[38;5;129;01min\u001B[39;00m tables)\n",
      "File \u001B[1;32m~\\Desktop\\Desktop\\programming\\UptoSkill\\Web Scrapping\\.venv\\Lib\\site-packages\\pandas\\io\\html.py:661\u001B[0m, in \u001B[0;36m_BeautifulSoupHtml5LibFrameParser._build_doc\u001B[1;34m(self)\u001B[0m\n\u001B[0;32m    658\u001B[0m     udoc \u001B[38;5;241m=\u001B[39m bdoc\n\u001B[0;32m    659\u001B[0m     from_encoding \u001B[38;5;241m=\u001B[39m \u001B[38;5;28mself\u001B[39m\u001B[38;5;241m.\u001B[39mencoding\n\u001B[1;32m--> 661\u001B[0m soup \u001B[38;5;241m=\u001B[39m \u001B[43mBeautifulSoup\u001B[49m\u001B[43m(\u001B[49m\u001B[43mudoc\u001B[49m\u001B[43m,\u001B[49m\u001B[43m \u001B[49m\u001B[43mfeatures\u001B[49m\u001B[38;5;241;43m=\u001B[39;49m\u001B[38;5;124;43m\"\u001B[39;49m\u001B[38;5;124;43mhtml5lib\u001B[39;49m\u001B[38;5;124;43m\"\u001B[39;49m\u001B[43m,\u001B[49m\u001B[43m \u001B[49m\u001B[43mfrom_encoding\u001B[49m\u001B[38;5;241;43m=\u001B[39;49m\u001B[43mfrom_encoding\u001B[49m\u001B[43m)\u001B[49m\n\u001B[0;32m    663\u001B[0m \u001B[38;5;28;01mfor\u001B[39;00m br \u001B[38;5;129;01min\u001B[39;00m soup\u001B[38;5;241m.\u001B[39mfind_all(\u001B[38;5;124m\"\u001B[39m\u001B[38;5;124mbr\u001B[39m\u001B[38;5;124m\"\u001B[39m):\n\u001B[0;32m    664\u001B[0m     br\u001B[38;5;241m.\u001B[39mreplace_with(\u001B[38;5;124m\"\u001B[39m\u001B[38;5;130;01m\\n\u001B[39;00m\u001B[38;5;124m\"\u001B[39m \u001B[38;5;241m+\u001B[39m br\u001B[38;5;241m.\u001B[39mtext)\n",
      "File \u001B[1;32m~\\Desktop\\Desktop\\programming\\UptoSkill\\Web Scrapping\\.venv\\Lib\\site-packages\\bs4\\__init__.py:250\u001B[0m, in \u001B[0;36mBeautifulSoup.__init__\u001B[1;34m(self, markup, features, builder, parse_only, from_encoding, exclude_encodings, element_classes, **kwargs)\u001B[0m\n\u001B[0;32m    248\u001B[0m     builder_class \u001B[38;5;241m=\u001B[39m builder_registry\u001B[38;5;241m.\u001B[39mlookup(\u001B[38;5;241m*\u001B[39mfeatures)\n\u001B[0;32m    249\u001B[0m     \u001B[38;5;28;01mif\u001B[39;00m builder_class \u001B[38;5;129;01mis\u001B[39;00m \u001B[38;5;28;01mNone\u001B[39;00m:\n\u001B[1;32m--> 250\u001B[0m         \u001B[38;5;28;01mraise\u001B[39;00m FeatureNotFound(\n\u001B[0;32m    251\u001B[0m             \u001B[38;5;124m\"\u001B[39m\u001B[38;5;124mCouldn\u001B[39m\u001B[38;5;124m'\u001B[39m\u001B[38;5;124mt find a tree builder with the features you \u001B[39m\u001B[38;5;124m\"\u001B[39m\n\u001B[0;32m    252\u001B[0m             \u001B[38;5;124m\"\u001B[39m\u001B[38;5;124mrequested: \u001B[39m\u001B[38;5;132;01m%s\u001B[39;00m\u001B[38;5;124m. Do you need to install a parser library?\u001B[39m\u001B[38;5;124m\"\u001B[39m\n\u001B[0;32m    253\u001B[0m             \u001B[38;5;241m%\u001B[39m \u001B[38;5;124m\"\u001B[39m\u001B[38;5;124m,\u001B[39m\u001B[38;5;124m\"\u001B[39m\u001B[38;5;241m.\u001B[39mjoin(features))\n\u001B[0;32m    255\u001B[0m \u001B[38;5;66;03m# At this point either we have a TreeBuilder instance in\u001B[39;00m\n\u001B[0;32m    256\u001B[0m \u001B[38;5;66;03m# builder, or we have a builder_class that we can instantiate\u001B[39;00m\n\u001B[0;32m    257\u001B[0m \u001B[38;5;66;03m# with the remaining **kwargs.\u001B[39;00m\n\u001B[0;32m    258\u001B[0m \u001B[38;5;28;01mif\u001B[39;00m builder \u001B[38;5;129;01mis\u001B[39;00m \u001B[38;5;28;01mNone\u001B[39;00m:\n",
      "\u001B[1;31mFeatureNotFound\u001B[0m: Couldn't find a tree builder with the features you requested: html5lib. Do you need to install a parser library?"
     ]
    }
   ],
   "execution_count": 54
  },
  {
   "metadata": {
    "ExecuteTime": {
     "end_time": "2024-07-17T10:09:19.832630Z",
     "start_time": "2024-07-17T10:09:19.817199Z"
    }
   },
   "cell_type": "code",
   "source": [
    "import urllib.request\n",
    "request = urllib.request.Request(url = 'https://www.zaubacorp.com/company-list', header = {\n",
    "    'User-Agent': 'Mozilla/5.0 (Windows NT 10.0; Win64; x64) AppleWebKit/537.36 (KHTML, like Gecko) Chrome/126.0.0.0 Safari/537.36'\n",
    "})\n",
    "f = urllib.request.urlopen(request)\n",
    "myfile = f.read()\n",
    "print(myfile)"
   ],
   "id": "10e249c9c5fdad09",
   "outputs": [
    {
     "ename": "TypeError",
     "evalue": "Request.__init__() got an unexpected keyword argument 'header'",
     "output_type": "error",
     "traceback": [
      "\u001B[1;31m---------------------------------------------------------------------------\u001B[0m",
      "\u001B[1;31mTypeError\u001B[0m                                 Traceback (most recent call last)",
      "Cell \u001B[1;32mIn[109], line 2\u001B[0m\n\u001B[0;32m      1\u001B[0m \u001B[38;5;28;01mimport\u001B[39;00m \u001B[38;5;21;01murllib\u001B[39;00m\u001B[38;5;21;01m.\u001B[39;00m\u001B[38;5;21;01mrequest\u001B[39;00m\n\u001B[1;32m----> 2\u001B[0m request \u001B[38;5;241m=\u001B[39m \u001B[43murllib\u001B[49m\u001B[38;5;241;43m.\u001B[39;49m\u001B[43mrequest\u001B[49m\u001B[38;5;241;43m.\u001B[39;49m\u001B[43mRequest\u001B[49m\u001B[43m(\u001B[49m\u001B[43murl\u001B[49m\u001B[43m \u001B[49m\u001B[38;5;241;43m=\u001B[39;49m\u001B[43m \u001B[49m\u001B[38;5;124;43m'\u001B[39;49m\u001B[38;5;124;43mhttps://www.zaubacorp.com/company-list\u001B[39;49m\u001B[38;5;124;43m'\u001B[39;49m\u001B[43m,\u001B[49m\u001B[43m \u001B[49m\u001B[43mheader\u001B[49m\u001B[43m \u001B[49m\u001B[38;5;241;43m=\u001B[39;49m\u001B[43m \u001B[49m\u001B[43m{\u001B[49m\n\u001B[0;32m      3\u001B[0m \u001B[43m    \u001B[49m\u001B[38;5;124;43m'\u001B[39;49m\u001B[38;5;124;43mUser-Agent\u001B[39;49m\u001B[38;5;124;43m'\u001B[39;49m\u001B[43m:\u001B[49m\u001B[43m \u001B[49m\u001B[38;5;124;43m'\u001B[39;49m\u001B[38;5;124;43mMozilla/5.0 (Windows NT 10.0; Win64; x64) AppleWebKit/537.36 (KHTML, like Gecko) Chrome/126.0.0.0 Safari/537.36\u001B[39;49m\u001B[38;5;124;43m'\u001B[39;49m\n\u001B[0;32m      4\u001B[0m \u001B[43m}\u001B[49m\u001B[43m)\u001B[49m\n\u001B[0;32m      5\u001B[0m f \u001B[38;5;241m=\u001B[39m urllib\u001B[38;5;241m.\u001B[39mrequest\u001B[38;5;241m.\u001B[39murlopen(request)\n\u001B[0;32m      6\u001B[0m myfile \u001B[38;5;241m=\u001B[39m f\u001B[38;5;241m.\u001B[39mread()\n",
      "\u001B[1;31mTypeError\u001B[0m: Request.__init__() got an unexpected keyword argument 'header'"
     ]
    }
   ],
   "execution_count": 109
  },
  {
   "metadata": {},
   "cell_type": "code",
   "outputs": [],
   "execution_count": null,
   "source": "",
   "id": "80baa8033740ac77"
  }
 ],
 "metadata": {
  "kernelspec": {
   "display_name": "Python 3",
   "language": "python",
   "name": "python3"
  },
  "language_info": {
   "codemirror_mode": {
    "name": "ipython",
    "version": 2
   },
   "file_extension": ".py",
   "mimetype": "text/x-python",
   "name": "python",
   "nbconvert_exporter": "python",
   "pygments_lexer": "ipython2",
   "version": "2.7.6"
  }
 },
 "nbformat": 4,
 "nbformat_minor": 5
}
